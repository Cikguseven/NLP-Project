{
 "cells": [
  {
   "cell_type": "code",
   "execution_count": 5,
   "id": "7c4c2f0f-cc46-4182-b7db-1c49423b4aea",
   "metadata": {},
   "outputs": [
    {
     "name": "stdout",
     "output_type": "stream",
     "text": [
      "[+] Created output directory: models\\wk14_olid_ft_13240\n",
      "[i] Saving to output directory: models\\wk14_olid_ft_13240\n"
     ]
    },
    {
     "name": "stderr",
     "output_type": "stream",
     "text": [
      "[2022-05-18 10:39:24,892] [INFO] Set up nlp object from config\n",
      "[2022-05-18 10:39:24,899] [INFO] Pipeline: ['transformer', 'textcat_multilabel']\n",
      "[2022-05-18 10:39:24,902] [INFO] Created vocabulary\n",
      "[2022-05-18 10:39:24,902] [INFO] Finished initializing nlp object\n",
      "Some weights of the model checkpoint at roberta-base were not used when initializing RobertaModel: ['lm_head.layer_norm.bias', 'lm_head.bias', 'lm_head.layer_norm.weight', 'lm_head.decoder.weight', 'lm_head.dense.weight', 'lm_head.dense.bias']\n",
      "- This IS expected if you are initializing RobertaModel from the checkpoint of a model trained on another task or with another architecture (e.g. initializing a BertForSequenceClassification model from a BertForPreTraining model).\n",
      "- This IS NOT expected if you are initializing RobertaModel from the checkpoint of a model that you expect to be exactly identical (initializing a BertForSequenceClassification model from a BertForSequenceClassification model).\n",
      "[2022-05-18 10:39:49,895] [INFO] Initialized pipeline components: ['transformer', 'textcat_multilabel']\n"
     ]
    },
    {
     "name": "stdout",
     "output_type": "stream",
     "text": [
      "[i] Using GPU: 0\n",
      "\u001b[1m\n",
      "=========================== Initializing pipeline ===========================\u001b[0m\n",
      "[+] Initialized pipeline\n",
      "\u001b[1m\n",
      "============================= Training pipeline =============================\u001b[0m\n",
      "[i] Pipeline: ['transformer', 'textcat_multilabel']\n",
      "[i] Initial learn rate: 0.0\n",
      "E    #       LOSS TRANS...  LOSS TEXTC...  CATS_SCORE  SCORE \n",
      "---  ------  -------------  -------------  ----------  ------\n",
      "  0       0           0.05           1.75        0.00    0.00\n",
      "  1     200           3.17         104.53        0.00    0.00\n",
      "  2     400           1.95          80.09        0.00    0.00\n",
      "  3     600           1.17          44.09        0.00    0.00\n",
      "  4     800           0.66          39.95        0.00    0.00\n",
      "  5    1000           0.87          39.64        0.00    0.00\n",
      "  6    1200           0.65          36.37        0.00    0.00\n",
      "  7    1400           0.94          28.41        0.00    0.00\n",
      "  8    1600           0.48          13.35        0.00    0.00\n",
      "[+] Saved pipeline to output directory\n",
      "models\\wk14_olid_ft_13240\\model-last\n"
     ]
    }
   ],
   "source": [
    "!spacy init config - --lang en --pipeline textcat_multilabel --optimize accuracy -G | \\\n",
    "spacy train - --paths.train ws_v0/wk14_ws_v1_60a_10b_lexicon1_tc9removed_13240_training.spacy  --paths.dev ws_v0/wk14_ws_v1_60a_10b_lexicon1_tc9removed_13240_vaildation.spacy -g 0 \\\n",
    "--output models/wk14_ws_v1_60a_10b_lexicon1_tc9removed_13240"
   ]
  },
  {
   "cell_type": "code",
   "execution_count": null,
   "id": "629aa412-e901-492f-b0df-6298be056d3d",
   "metadata": {},
   "outputs": [],
   "source": []
  }
 ],
 "metadata": {
  "kernelspec": {
   "display_name": "Python 3 (ipykernel)",
   "language": "python",
   "name": "python3"
  },
  "language_info": {
   "codemirror_mode": {
    "name": "ipython",
    "version": 3
   },
   "file_extension": ".py",
   "mimetype": "text/x-python",
   "name": "python",
   "nbconvert_exporter": "python",
   "pygments_lexer": "ipython3",
   "version": "3.9.10"
  }
 },
 "nbformat": 4,
 "nbformat_minor": 5
}
