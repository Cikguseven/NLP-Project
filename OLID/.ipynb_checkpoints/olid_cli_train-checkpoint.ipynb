{
 "cells": [
  {
   "cell_type": "code",
   "execution_count": 1,
   "id": "7c4c2f0f-cc46-4182-b7db-1c49423b4aea",
   "metadata": {},
   "outputs": [
    {
     "name": "stdout",
     "output_type": "stream",
     "text": [
      "[i] Saving to output directory: models\\v0_reddit_handlabelled_cased_80_10\n",
      "[i] Using GPU: 0\n",
      "\u001b[1m\n",
      "=========================== Initializing pipeline ===========================\u001b[0m\n",
      "[+] Initialized pipeline\n",
      "\u001b[1m\n",
      "============================= Training pipeline =============================\u001b[0m\n",
      "[i] Pipeline: ['transformer', 'textcat_multilabel']\n",
      "[i] Initial learn rate: 0.0\n",
      "E    #       LOSS TRANS...  LOSS TEXTC...  CATS_SCORE  SCORE \n",
      "---  ------  -------------  -------------  ----------  ------\n",
      "  0       0           0.06           1.24       48.93    0.49\n",
      " 15     200           1.09          16.72       77.64    0.78\n",
      " 30     400           0.59           2.95       73.62    0.74\n",
      " 46     600           0.01           0.04       77.44    0.77\n",
      " 61     800           0.08           1.22       70.70    0.71\n",
      " 77    1000           0.07           0.15       78.37    0.78\n",
      " 92    1200           0.01           0.09       75.49    0.75\n",
      "108    1400           0.05           0.08       82.40    0.82\n",
      "123    1600           0.00           0.00       83.57    0.84\n",
      "138    1800           0.00           0.00       83.71    0.84\n",
      "154    2000           0.00           0.00       83.04    0.83\n",
      "170    2200           0.00           0.00       83.40    0.83\n",
      "185    2400           0.03           0.31       64.46    0.64\n",
      "201    2600           0.11           1.59       75.14    0.75\n",
      "217    2800           0.08           0.30       67.92    0.68\n",
      "232    3000           0.02           0.01       78.08    0.78\n",
      "248    3200           0.02           0.02       74.37    0.74\n",
      "264    3400           0.01           0.02       58.34    0.58\n",
      "[+] Saved pipeline to output directory\n",
      "models\\v0_reddit_handlabelled_cased_80_10\\model-last\n"
     ]
    },
    {
     "name": "stderr",
     "output_type": "stream",
     "text": [
      "[2022-04-08 15:34:12,399] [INFO] Set up nlp object from config\n",
      "[2022-04-08 15:34:12,406] [INFO] Pipeline: ['transformer', 'textcat_multilabel']\n",
      "[2022-04-08 15:34:12,409] [INFO] Created vocabulary\n",
      "[2022-04-08 15:34:12,410] [INFO] Finished initializing nlp object\n",
      "Some weights of the model checkpoint at roberta-base were not used when initializing RobertaModel: ['lm_head.dense.bias', 'lm_head.dense.weight', 'lm_head.bias', 'lm_head.layer_norm.weight', 'lm_head.decoder.weight', 'lm_head.layer_norm.bias']\n",
      "- This IS expected if you are initializing RobertaModel from the checkpoint of a model trained on another task or with another architecture (e.g. initializing a BertForSequenceClassification model from a BertForPreTraining model).\n",
      "- This IS NOT expected if you are initializing RobertaModel from the checkpoint of a model that you expect to be exactly identical (initializing a BertForSequenceClassification model from a BertForSequenceClassification model).\n",
      "[2022-04-08 15:34:34,874] [INFO] Initialized pipeline components: ['transformer', 'textcat_multilabel']\n"
     ]
    }
   ],
   "source": [
    "!spacy init config - --lang en --pipeline textcat_multilabel --optimize accuracy -G | \\\n",
    "spacy train - --paths.train reddit_v0/v0_handlabelled_cased_80_10_training.spacy  --paths.dev reddit_v0/v0_handlabelled_cased_80_10_vaildation.spacy -g 0 \\\n",
    "--output models/v0_reddit_handlabelled_cased_80_10"
   ]
  },
  {
   "cell_type": "code",
   "execution_count": null,
   "id": "b926ae41-ddab-4128-b6e3-0a2c78a6195f",
   "metadata": {},
   "outputs": [],
   "source": []
  },
  {
   "cell_type": "code",
   "execution_count": null,
   "id": "b917b1dc-7b0c-44fc-ae79-ec686ac57dee",
   "metadata": {},
   "outputs": [],
   "source": []
  }
 ],
 "metadata": {
  "kernelspec": {
   "display_name": "Python 3 (ipykernel)",
   "language": "python",
   "name": "python3"
  },
  "language_info": {
   "codemirror_mode": {
    "name": "ipython",
    "version": 3
   },
   "file_extension": ".py",
   "mimetype": "text/x-python",
   "name": "python",
   "nbconvert_exporter": "python",
   "pygments_lexer": "ipython3",
   "version": "3.9.10"
  }
 },
 "nbformat": 4,
 "nbformat_minor": 5
}
