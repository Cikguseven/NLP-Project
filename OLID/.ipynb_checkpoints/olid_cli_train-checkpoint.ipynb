{
 "cells": [
  {
   "cell_type": "code",
   "execution_count": 2,
   "id": "7c4c2f0f-cc46-4182-b7db-1c49423b4aea",
   "metadata": {},
   "outputs": [
    {
     "name": "stdout",
     "output_type": "stream",
     "text": [
      "[i] Saving to output directory: models\\wk13_ft_hwz\n",
      "[i] Using GPU: 0\n",
      "\u001b[1m\n",
      "=========================== Initializing pipeline ===========================\u001b[0m\n",
      "[+] Initialized pipeline\n",
      "\u001b[1m\n",
      "============================= Training pipeline =============================\u001b[0m\n",
      "[i] Pipeline: ['transformer', 'textcat_multilabel']\n",
      "[i] Initial learn rate: 0.0\n",
      "E    #       LOSS TRANS...  LOSS TEXTC...  CATS_SCORE  SCORE \n",
      "---  ------  -------------  -------------  ----------  ------\n",
      "  0       0           0.02           0.69        0.00    0.00\n",
      " 14     200           1.55          62.27        0.00    0.00\n",
      " 29     400           0.07           3.08        0.00    0.00\n",
      " 44     600           0.00           0.03        0.00    0.00\n",
      " 58     800           0.05           1.48        0.00    0.00\n",
      " 73    1000           0.08           4.92        0.00    0.00\n",
      " 88    1200           0.00           0.01        0.00    0.00\n",
      "103    1400           0.00           0.00        0.00    0.00\n",
      "117    1600           0.06           0.89        0.00    0.00\n",
      "[+] Saved pipeline to output directory\n",
      "models\\wk13_ft_hwz\\model-last\n"
     ]
    },
    {
     "name": "stderr",
     "output_type": "stream",
     "text": [
      "[2022-05-10 10:17:05,572] [INFO] Set up nlp object from config\n",
      "[2022-05-10 10:17:05,579] [INFO] Pipeline: ['transformer', 'textcat_multilabel']\n",
      "[2022-05-10 10:17:05,582] [INFO] Created vocabulary\n",
      "[2022-05-10 10:17:05,582] [INFO] Finished initializing nlp object\n",
      "Some weights of the model checkpoint at roberta-base were not used when initializing RobertaModel: ['lm_head.layer_norm.weight', 'lm_head.bias', 'lm_head.decoder.weight', 'lm_head.dense.bias', 'lm_head.dense.weight', 'lm_head.layer_norm.bias']\n",
      "- This IS expected if you are initializing RobertaModel from the checkpoint of a model trained on another task or with another architecture (e.g. initializing a BertForSequenceClassification model from a BertForPreTraining model).\n",
      "- This IS NOT expected if you are initializing RobertaModel from the checkpoint of a model that you expect to be exactly identical (initializing a BertForSequenceClassification model from a BertForSequenceClassification model).\n",
      "[2022-05-10 10:17:24,984] [INFO] Initialized pipeline components: ['transformer', 'textcat_multilabel']\n"
     ]
    }
   ],
   "source": [
    "!spacy init config - --lang en --pipeline textcat_multilabel --optimize accuracy -G | \\\n",
    "spacy train - --paths.train ws_v0/wk13_ft_hwz_training.spacy  --paths.dev ws_v0/wk13_ft_hwz_vaildation.spacy -g 0 \\\n",
    "--output models/wk13_ft_hwz"
   ]
  },
  {
   "cell_type": "code",
   "execution_count": null,
   "id": "629aa412-e901-492f-b0df-6298be056d3d",
   "metadata": {},
   "outputs": [],
   "source": []
  }
 ],
 "metadata": {
  "kernelspec": {
   "display_name": "Python 3 (ipykernel)",
   "language": "python",
   "name": "python3"
  },
  "language_info": {
   "codemirror_mode": {
    "name": "ipython",
    "version": 3
   },
   "file_extension": ".py",
   "mimetype": "text/x-python",
   "name": "python",
   "nbconvert_exporter": "python",
   "pygments_lexer": "ipython3",
   "version": "3.9.10"
  }
 },
 "nbformat": 4,
 "nbformat_minor": 5
}
