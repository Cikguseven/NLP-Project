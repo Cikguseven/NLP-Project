{
 "cells": [
  {
   "cell_type": "code",
   "execution_count": 1,
   "id": "7c4c2f0f-cc46-4182-b7db-1c49423b4aea",
   "metadata": {},
   "outputs": [
    {
     "name": "stdout",
     "output_type": "stream",
     "text": [
      "[+] Created output directory: models\\ws_v1_60a_10b_lexicon1_tc9removed\n",
      "[i] Saving to output directory: models\\ws_v1_60a_10b_lexicon1_tc9removed\n",
      "[i] Using GPU: 0\n",
      "\u001b[1m\n",
      "=========================== Initializing pipeline ===========================\u001b[0m\n",
      "[+] Initialized pipeline\n",
      "\u001b[1m\n",
      "============================= Training pipeline =============================\u001b[0m\n",
      "[i] Pipeline: ['transformer', 'textcat_multilabel']\n",
      "[i] Initial learn rate: 0.0\n",
      "E    #       LOSS TRANS...  LOSS TEXTC...  CATS_SCORE  SCORE \n",
      "---  ------  -------------  -------------  ----------  ------\n",
      "  0       0           0.09           4.65       50.17    0.50\n",
      "  1     200           3.33          80.83       93.29    0.93\n",
      "  2     400           1.98          32.50       94.42    0.94\n",
      "  4     600           1.47          18.49       95.19    0.95\n",
      "  5     800           1.56          14.62       95.35    0.95\n",
      "  6    1000           0.90           5.03       94.94    0.95\n",
      "  8    1200           0.75           4.87       95.26    0.95\n",
      "  9    1400           0.51           1.82       95.48    0.95\n",
      " 11    1600           0.61           2.81       94.84    0.95\n",
      " 12    1800           1.94           3.32       95.02    0.95\n",
      " 13    2000           0.30           0.79       94.75    0.95\n",
      " 15    2200           0.48           4.39       94.91    0.95\n",
      " 16    2400           0.18           1.04       94.93    0.95\n",
      " 18    2600           0.37           3.31       94.69    0.95\n",
      " 19    2800           0.18           3.85       95.34    0.95\n",
      " 20    3000           0.12           2.96       95.18    0.95\n",
      "[+] Saved pipeline to output directory\n",
      "models\\ws_v1_60a_10b_lexicon1_tc9removed\\model-last\n"
     ]
    },
    {
     "name": "stderr",
     "output_type": "stream",
     "text": [
      "[2022-05-14 11:59:56,677] [INFO] Set up nlp object from config\n",
      "[2022-05-14 11:59:56,685] [INFO] Pipeline: ['transformer', 'textcat_multilabel']\n",
      "[2022-05-14 11:59:56,688] [INFO] Created vocabulary\n",
      "[2022-05-14 11:59:56,688] [INFO] Finished initializing nlp object\n",
      "Some weights of the model checkpoint at roberta-base were not used when initializing RobertaModel: ['lm_head.bias', 'lm_head.dense.bias', 'lm_head.layer_norm.weight', 'lm_head.layer_norm.bias', 'lm_head.decoder.weight', 'lm_head.dense.weight']\n",
      "- This IS expected if you are initializing RobertaModel from the checkpoint of a model trained on another task or with another architecture (e.g. initializing a BertForSequenceClassification model from a BertForPreTraining model).\n",
      "- This IS NOT expected if you are initializing RobertaModel from the checkpoint of a model that you expect to be exactly identical (initializing a BertForSequenceClassification model from a BertForSequenceClassification model).\n",
      "[2022-05-14 12:00:19,627] [INFO] Initialized pipeline components: ['transformer', 'textcat_multilabel']\n"
     ]
    }
   ],
   "source": [
    "!spacy init config - --lang en --pipeline textcat_multilabel --optimize accuracy -G | \\\n",
    "spacy train - --paths.train ws_v0/ws_v1_60a_10b_lexicon1_tc9removed_1000train_training.spacy  --paths.dev ws_v0/ws_v1_60a_10b_lexicon1_tc9removed_1000train_vaildation.spacy -g 0 \\\n",
    "--output models/ws_v1_60a_10b_lexicon1_tc9removed_1000train"
   ]
  },
  {
   "cell_type": "code",
   "execution_count": null,
   "id": "629aa412-e901-492f-b0df-6298be056d3d",
   "metadata": {},
   "outputs": [],
   "source": []
  }
 ],
 "metadata": {
  "kernelspec": {
   "display_name": "Python 3 (ipykernel)",
   "language": "python",
   "name": "python3"
  },
  "language_info": {
   "codemirror_mode": {
    "name": "ipython",
    "version": 3
   },
   "file_extension": ".py",
   "mimetype": "text/x-python",
   "name": "python",
   "nbconvert_exporter": "python",
   "pygments_lexer": "ipython3",
   "version": "3.9.10"
  }
 },
 "nbformat": 4,
 "nbformat_minor": 5
}
