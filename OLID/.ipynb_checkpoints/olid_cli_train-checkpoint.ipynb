{
 "cells": [
  {
   "cell_type": "code",
   "execution_count": 1,
   "id": "7c4c2f0f-cc46-4182-b7db-1c49423b4aea",
   "metadata": {},
   "outputs": [
    {
     "name": "stdout",
     "output_type": "stream",
     "text": [
      "[i] Saving to output directory: models\\v0_weak_signals_30a_5b\n",
      "[i] Using GPU: 0\n",
      "\u001b[1m\n",
      "=========================== Initializing pipeline ===========================\u001b[0m\n",
      "[+] Initialized pipeline\n",
      "\u001b[1m\n",
      "============================= Training pipeline =============================\u001b[0m\n",
      "[i] Pipeline: ['transformer', 'textcat_multilabel']\n",
      "[i] Initial learn rate: 0.0\n",
      "E    #       LOSS TRANS...  LOSS TEXTC...  CATS_SCORE  SCORE \n",
      "---  ------  -------------  -------------  ----------  ------\n",
      "  0       0           0.03           1.27       50.58    0.51\n",
      "  1     200           3.06          78.10       91.47    0.91\n",
      "  2     400           1.89          42.45       94.44    0.94\n",
      "  4     600           1.27          21.66       94.81    0.95\n",
      "  5     800           1.01           6.97       95.52    0.96\n",
      "  7    1000           0.61           6.90       95.79    0.96\n",
      "  8    1200           0.37           2.03       95.48    0.95\n",
      "  9    1400           0.57           5.93       94.98    0.95\n",
      " 11    1600           0.30           3.45       95.49    0.95\n",
      " 12    1800           0.17           1.21       95.57    0.96\n",
      " 13    2000           0.84           3.20       95.25    0.95\n",
      " 15    2200           0.18           0.96       94.83    0.95\n",
      " 16    2400           0.10           1.21       94.73    0.95\n",
      " 18    2600           0.14           1.40       94.83    0.95\n",
      "[+] Saved pipeline to output directory\n",
      "models\\v0_weak_signals_30a_5b\\model-last\n"
     ]
    },
    {
     "name": "stderr",
     "output_type": "stream",
     "text": [
      "[2022-04-27 13:10:14,828] [INFO] Set up nlp object from config\n",
      "[2022-04-27 13:10:14,835] [INFO] Pipeline: ['transformer', 'textcat_multilabel']\n",
      "[2022-04-27 13:10:14,837] [INFO] Created vocabulary\n",
      "[2022-04-27 13:10:14,838] [INFO] Finished initializing nlp object\n",
      "Some weights of the model checkpoint at roberta-base were not used when initializing RobertaModel: ['lm_head.layer_norm.bias', 'lm_head.decoder.weight', 'lm_head.bias', 'lm_head.dense.weight', 'lm_head.dense.bias', 'lm_head.layer_norm.weight']\n",
      "- This IS expected if you are initializing RobertaModel from the checkpoint of a model trained on another task or with another architecture (e.g. initializing a BertForSequenceClassification model from a BertForPreTraining model).\n",
      "- This IS NOT expected if you are initializing RobertaModel from the checkpoint of a model that you expect to be exactly identical (initializing a BertForSequenceClassification model from a BertForSequenceClassification model).\n",
      "[2022-04-27 13:10:39,177] [INFO] Initialized pipeline components: ['transformer', 'textcat_multilabel']\n"
     ]
    }
   ],
   "source": [
    "!spacy init config - --lang en --pipeline textcat_multilabel --optimize accuracy -G | \\\n",
    "spacy train - --paths.train reddit_v0/v0_weak_signals_40a_5b_training.spacy  --paths.dev reddit_v0/v0_weak_signals_40a_5b_vaildation.spacy -g 0 \\\n",
    "--output models/v0_weak_signals_40a_5b"
   ]
  },
  {
   "cell_type": "code",
   "execution_count": null,
   "id": "b926ae41-ddab-4128-b6e3-0a2c78a6195f",
   "metadata": {},
   "outputs": [],
   "source": []
  }
 ],
 "metadata": {
  "kernelspec": {
   "display_name": "Python 3 (ipykernel)",
   "language": "python",
   "name": "python3"
  },
  "language_info": {
   "codemirror_mode": {
    "name": "ipython",
    "version": 3
   },
   "file_extension": ".py",
   "mimetype": "text/x-python",
   "name": "python",
   "nbconvert_exporter": "python",
   "pygments_lexer": "ipython3",
   "version": "3.9.10"
  }
 },
 "nbformat": 4,
 "nbformat_minor": 5
}
