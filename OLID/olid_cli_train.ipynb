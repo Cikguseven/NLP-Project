{
 "cells": [
  {
   "cell_type": "code",
   "execution_count": 1,
   "id": "7c4c2f0f-cc46-4182-b7db-1c49423b4aea",
   "metadata": {},
   "outputs": [
    {
     "name": "stdout",
     "output_type": "stream",
     "text": [
      "[+] Created output directory: models\\v0_weak_signals\n",
      "[i] Saving to output directory: models\\v0_weak_signals\n",
      "[i] Using GPU: 0\n",
      "\u001b[1m\n"
     ]
    },
    {
     "name": "stderr",
     "output_type": "stream",
     "text": [
      "[2022-04-26 13:29:47,594] [INFO] Set up nlp object from config\n",
      "[2022-04-26 13:29:47,601] [INFO] Pipeline: ['transformer', 'textcat_multilabel']\n",
      "[2022-04-26 13:29:47,604] [INFO] Created vocabulary\n",
      "[2022-04-26 13:29:47,604] [INFO] Finished initializing nlp object\n",
      "Some weights of the model checkpoint at roberta-base were not used when initializing RobertaModel: ['lm_head.decoder.weight', 'lm_head.dense.bias', 'lm_head.bias', 'lm_head.layer_norm.bias', 'lm_head.dense.weight', 'lm_head.layer_norm.weight']\n",
      "- This IS expected if you are initializing RobertaModel from the checkpoint of a model trained on another task or with another architecture (e.g. initializing a BertForSequenceClassification model from a BertForPreTraining model).\n",
      "- This IS NOT expected if you are initializing RobertaModel from the checkpoint of a model that you expect to be exactly identical (initializing a BertForSequenceClassification model from a BertForSequenceClassification model).\n",
      "[2022-04-26 13:30:11,628] [INFO] Initialized pipeline components: ['transformer', 'textcat_multilabel']\n"
     ]
    },
    {
     "name": "stdout",
     "output_type": "stream",
     "text": [
      "=========================== Initializing pipeline ===========================\u001b[0m\n",
      "[+] Initialized pipeline\n",
      "\u001b[1m\n",
      "============================= Training pipeline =============================\u001b[0m\n",
      "[i] Pipeline: ['transformer', 'textcat_multilabel']\n",
      "[i] Initial learn rate: 0.0\n",
      "E    #       LOSS TRANS...  LOSS TEXTC...  CATS_SCORE  SCORE \n",
      "---  ------  -------------  -------------  ----------  ------\n",
      "  0       0           0.03           1.33       41.69    0.42\n",
      "  1     200           2.86          63.10       74.52    0.75\n",
      "  2     400           2.22          32.45       75.54    0.76\n",
      "  4     600           1.70          15.41       76.57    0.77\n",
      "  5     800           1.09           7.25       76.91    0.77\n",
      "  7    1000           0.44           3.19       76.25    0.76\n",
      "  8    1200           0.85           3.29       76.55    0.77\n",
      "  9    1400           0.55           4.13       76.11    0.76\n",
      " 11    1600           0.18           1.39       74.87    0.75\n",
      " 12    1800           0.34           1.84       76.25    0.76\n",
      " 13    2000           0.47           4.11       75.35    0.75\n",
      " 15    2200           0.20           1.64       76.11    0.76\n",
      " 16    2400           0.21           3.75       76.15    0.76\n",
      "[+] Saved pipeline to output directory\n",
      "models\\v0_weak_signals\\model-last\n"
     ]
    }
   ],
   "source": [
    "!spacy init config - --lang en --pipeline textcat_multilabel --optimize accuracy -G | \\\n",
    "spacy train - --paths.train reddit_v0/v0_weak_signals_training.spacy  --paths.dev reddit_v0/v0_weak_signals_vaildation.spacy -g 0 \\\n",
    "--output models/v0_weak_signals"
   ]
  },
  {
   "cell_type": "code",
   "execution_count": null,
   "id": "b926ae41-ddab-4128-b6e3-0a2c78a6195f",
   "metadata": {},
   "outputs": [],
   "source": []
  }
 ],
 "metadata": {
  "kernelspec": {
   "display_name": "Python 3 (ipykernel)",
   "language": "python",
   "name": "python3"
  },
  "language_info": {
   "codemirror_mode": {
    "name": "ipython",
    "version": 3
   },
   "file_extension": ".py",
   "mimetype": "text/x-python",
   "name": "python",
   "nbconvert_exporter": "python",
   "pygments_lexer": "ipython3",
   "version": "3.9.10"
  }
 },
 "nbformat": 4,
 "nbformat_minor": 5
}
