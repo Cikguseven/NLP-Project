{
 "cells": [
  {
   "cell_type": "code",
   "execution_count": 1,
   "id": "7c4c2f0f-cc46-4182-b7db-1c49423b4aea",
   "metadata": {},
   "outputs": [
    {
     "name": "stdout",
     "output_type": "stream",
     "text": [
      "[+] Created output directory: models\\ws_v1_60a_10b_lexicon1_tc9removed_1000train\n",
      "[i] Saving to output directory:\n",
      "models\\ws_v1_60a_10b_lexicon1_tc9removed_1000train\n",
      "[i] Using GPU: 0\n",
      "\u001b[1m\n",
      "=========================== Initializing pipeline ===========================\u001b[0m\n",
      "[+] Initialized pipeline\n",
      "\u001b[1m\n",
      "============================= Training pipeline =============================\u001b[0m\n",
      "[i] Pipeline: ['transformer', 'textcat_multilabel']\n",
      "[i] Initial learn rate: 0.0\n",
      "E    #       LOSS TRANS...  LOSS TEXTC...  CATS_SCORE  SCORE \n",
      "---  ------  -------------  -------------  ----------  ------\n",
      "  0       0           0.10           3.42       51.79    0.52\n",
      " 14     200           1.77          33.21       89.94    0.90\n",
      " 28     400           0.68           3.00       90.37    0.90\n",
      " 42     600           0.00           0.00       90.69    0.91\n",
      " 56     800           0.07           0.25       89.87    0.90\n",
      " 70    1000           0.01           0.05       90.59    0.91\n",
      " 84    1200           0.01           0.01       90.36    0.90\n",
      " 98    1400           0.46           1.46       90.99    0.91\n",
      "112    1600           0.07           1.38       90.89    0.91\n",
      "126    1800           0.01           0.00       89.24    0.89\n",
      "140    2000           0.00           0.00       89.81    0.90\n",
      "155    2200           0.00           0.00       90.00    0.90\n",
      "169    2400           0.00           0.00       90.55    0.91\n",
      "183    2600           0.00           0.00       89.98    0.90\n",
      "197    2800           0.04           0.09       88.24    0.88\n",
      "211    3000           0.02           0.36       88.50    0.89\n",
      "[+] Saved pipeline to output directory\n",
      "models\\ws_v1_60a_10b_lexicon1_tc9removed_1000train\\model-last\n"
     ]
    },
    {
     "name": "stderr",
     "output_type": "stream",
     "text": [
      "[2022-05-17 15:00:29,032] [INFO] Set up nlp object from config\n",
      "[2022-05-17 15:00:29,039] [INFO] Pipeline: ['transformer', 'textcat_multilabel']\n",
      "[2022-05-17 15:00:29,042] [INFO] Created vocabulary\n",
      "[2022-05-17 15:00:29,043] [INFO] Finished initializing nlp object\n",
      "Some weights of the model checkpoint at roberta-base were not used when initializing RobertaModel: ['lm_head.dense.weight', 'lm_head.bias', 'lm_head.dense.bias', 'lm_head.layer_norm.bias', 'lm_head.layer_norm.weight', 'lm_head.decoder.weight']\n",
      "- This IS expected if you are initializing RobertaModel from the checkpoint of a model trained on another task or with another architecture (e.g. initializing a BertForSequenceClassification model from a BertForPreTraining model).\n",
      "- This IS NOT expected if you are initializing RobertaModel from the checkpoint of a model that you expect to be exactly identical (initializing a BertForSequenceClassification model from a BertForSequenceClassification model).\n",
      "[2022-05-17 15:00:47,080] [INFO] Initialized pipeline components: ['transformer', 'textcat_multilabel']\n"
     ]
    }
   ],
   "source": [
    "!spacy init config - --lang en --pipeline textcat_multilabel --optimize accuracy -G | \\\n",
    "spacy train - --paths.train ws_v0/ws_v1_60a_10b_lexicon1_tc9removed_training.spacy  --paths.dev ws_v0/ws_v1_60a_10b_lexicon1_tc9removed_vaildation.spacy -g 0 \\\n",
    "--output models/ws_v1_60a_10b_lexicon1_tc9removed"
   ]
  },
  {
   "cell_type": "code",
   "execution_count": null,
   "id": "629aa412-e901-492f-b0df-6298be056d3d",
   "metadata": {},
   "outputs": [],
   "source": []
  }
 ],
 "metadata": {
  "kernelspec": {
   "display_name": "Python 3 (ipykernel)",
   "language": "python",
   "name": "python3"
  },
  "language_info": {
   "codemirror_mode": {
    "name": "ipython",
    "version": 3
   },
   "file_extension": ".py",
   "mimetype": "text/x-python",
   "name": "python",
   "nbconvert_exporter": "python",
   "pygments_lexer": "ipython3",
   "version": "3.9.10"
  }
 },
 "nbformat": 4,
 "nbformat_minor": 5
}
