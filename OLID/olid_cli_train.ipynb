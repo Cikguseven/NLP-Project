{
 "cells": [
  {
   "cell_type": "code",
   "execution_count": 1,
   "id": "7c4c2f0f-cc46-4182-b7db-1c49423b4aea",
   "metadata": {},
   "outputs": [
    {
     "name": "stdout",
     "output_type": "stream",
     "text": [
      "[+] Created output directory: models\\wk13_ws_reddit_45a_12b\n",
      "[i] Saving to output directory: models\\wk13_ws_reddit_45a_12b\n",
      "[i] Using GPU: 0\n",
      "\u001b[1m\n",
      "=========================== Initializing pipeline ===========================\u001b[0m\n",
      "[+] Initialized pipeline\n",
      "\u001b[1m\n",
      "============================= Training pipeline =============================\u001b[0m\n",
      "[i] Pipeline: ['transformer', 'textcat_multilabel']\n",
      "[i] Initial learn rate: 0.0\n",
      "E    #       LOSS TRANS...  LOSS TEXTC...  CATS_SCORE  SCORE \n",
      "---  ------  -------------  -------------  ----------  ------\n",
      "  0       0           0.03           0.29       49.74    0.50\n",
      " 20     200           2.84          34.02       87.07    0.87\n",
      " 40     400           0.29           1.33       88.00    0.88\n",
      " 60     600           0.02           0.05       86.44    0.86\n",
      " 80     800           0.15           0.29       85.44    0.85\n",
      "101    1000           0.01           0.01       87.03    0.87\n",
      "121    1200           0.01           0.02       86.40    0.86\n",
      "141    1400           0.05           0.08       88.10    0.88\n",
      "162    1600           0.01           0.02       88.91    0.89\n",
      "182    1800           0.00           0.01       88.63    0.89\n",
      "201    2000           0.03           0.23       88.42    0.88\n",
      "222    2200           0.03           0.12       85.80    0.86\n",
      "242    2400           0.00           0.00       86.50    0.86\n",
      "263    2600           0.02           0.11       84.28    0.84\n",
      "283    2800           0.13           0.31       87.15    0.87\n",
      "303    3000           0.01           0.04       87.82    0.88\n",
      "324    3200           0.00           0.00       86.29    0.86\n",
      "[+] Saved pipeline to output directory\n",
      "models\\wk13_ws_reddit_45a_12b\\model-last\n"
     ]
    },
    {
     "name": "stderr",
     "output_type": "stream",
     "text": [
      "[2022-05-10 15:30:50,699] [INFO] Set up nlp object from config\n",
      "[2022-05-10 15:30:50,706] [INFO] Pipeline: ['transformer', 'textcat_multilabel']\n",
      "[2022-05-10 15:30:50,709] [INFO] Created vocabulary\n",
      "[2022-05-10 15:30:50,710] [INFO] Finished initializing nlp object\n",
      "Some weights of the model checkpoint at roberta-base were not used when initializing RobertaModel: ['lm_head.dense.bias', 'lm_head.layer_norm.weight', 'lm_head.layer_norm.bias', 'lm_head.dense.weight', 'lm_head.bias', 'lm_head.decoder.weight']\n",
      "- This IS expected if you are initializing RobertaModel from the checkpoint of a model trained on another task or with another architecture (e.g. initializing a BertForSequenceClassification model from a BertForPreTraining model).\n",
      "- This IS NOT expected if you are initializing RobertaModel from the checkpoint of a model that you expect to be exactly identical (initializing a BertForSequenceClassification model from a BertForSequenceClassification model).\n",
      "[2022-05-10 15:31:08,869] [INFO] Initialized pipeline components: ['transformer', 'textcat_multilabel']\n"
     ]
    }
   ],
   "source": [
    "!spacy init config - --lang en --pipeline textcat_multilabel --optimize accuracy -G | \\\n",
    "spacy train - --paths.train ws_v0/wk13_ws_reddit_45a_12b_training.spacy  --paths.dev ws_v0/wk13_ws_reddit_45a_12b_vaildation.spacy -g 0 \\\n",
    "--output models/wk13_ws_reddit_45a_12b"
   ]
  },
  {
   "cell_type": "code",
   "execution_count": null,
   "id": "629aa412-e901-492f-b0df-6298be056d3d",
   "metadata": {},
   "outputs": [],
   "source": []
  }
 ],
 "metadata": {
  "kernelspec": {
   "display_name": "Python 3 (ipykernel)",
   "language": "python",
   "name": "python3"
  },
  "language_info": {
   "codemirror_mode": {
    "name": "ipython",
    "version": 3
   },
   "file_extension": ".py",
   "mimetype": "text/x-python",
   "name": "python",
   "nbconvert_exporter": "python",
   "pygments_lexer": "ipython3",
   "version": "3.9.10"
  }
 },
 "nbformat": 4,
 "nbformat_minor": 5
}
