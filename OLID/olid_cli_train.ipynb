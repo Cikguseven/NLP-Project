{
 "cells": [
  {
   "cell_type": "code",
   "execution_count": 7,
   "id": "7c4c2f0f-cc46-4182-b7db-1c49423b4aea",
   "metadata": {},
   "outputs": [
    {
     "name": "stdout",
     "output_type": "stream",
     "text": [
      "[+] Created output directory: models\\wk14_ws_hwz_45a_12b\n",
      "[i] Saving to output directory: models\\wk14_ws_hwz_45a_12b\n",
      "[i] Using GPU: 0\n",
      "\u001b[1m\n",
      "=========================== Initializing pipeline ===========================\u001b[0m\n",
      "[+] Initialized pipeline\n",
      "\u001b[1m\n",
      "============================= Training pipeline =============================\u001b[0m\n",
      "[i] Pipeline: ['transformer', 'textcat_multilabel']\n",
      "[i] Initial learn rate: 0.0\n",
      "E    #       LOSS TRANS...  LOSS TEXTC...  CATS_SCORE  SCORE \n",
      "---  ------  -------------  -------------  ----------  ------\n",
      "  0       0           0.01           0.22       48.01    0.48\n",
      " 15     200           1.45          44.01       85.89    0.86\n",
      " 30     400           0.16           1.88       89.69    0.90\n",
      " 45     600           0.01           0.02       88.36    0.88\n",
      " 59     800           0.00           0.01       87.91    0.88\n",
      " 74    1000           0.44           2.44       83.97    0.84\n",
      " 89    1200           0.05           0.31       87.73    0.88\n",
      "104    1400           0.01           0.01       87.58    0.88\n",
      "119    1600           0.00           0.02       90.31    0.90\n",
      "134    1800           0.00           0.00       87.36    0.87\n",
      "149    2000           0.00           0.00       87.63    0.88\n",
      "164    2200           0.00           0.00       87.24    0.87\n",
      "179    2400           0.00           0.00       87.78    0.88\n",
      "194    2600           0.00           0.00       87.93    0.88\n",
      "209    2800           0.00           0.00       88.40    0.88\n",
      "224    3000           0.11           1.05       81.43    0.81\n",
      "239    3200           0.23           5.83       84.68    0.85\n",
      "[+] Saved pipeline to output directory\n",
      "models\\wk14_ws_hwz_45a_12b\\model-last\n"
     ]
    },
    {
     "name": "stderr",
     "output_type": "stream",
     "text": [
      "[2022-05-18 14:23:53,760] [INFO] Set up nlp object from config\n",
      "[2022-05-18 14:23:53,768] [INFO] Pipeline: ['transformer', 'textcat_multilabel']\n",
      "[2022-05-18 14:23:53,771] [INFO] Created vocabulary\n",
      "[2022-05-18 14:23:53,771] [INFO] Finished initializing nlp object\n",
      "Some weights of the model checkpoint at roberta-base were not used when initializing RobertaModel: ['lm_head.layer_norm.bias', 'lm_head.layer_norm.weight', 'lm_head.dense.bias', 'lm_head.dense.weight', 'lm_head.bias', 'lm_head.decoder.weight']\n",
      "- This IS expected if you are initializing RobertaModel from the checkpoint of a model trained on another task or with another architecture (e.g. initializing a BertForSequenceClassification model from a BertForPreTraining model).\n",
      "- This IS NOT expected if you are initializing RobertaModel from the checkpoint of a model that you expect to be exactly identical (initializing a BertForSequenceClassification model from a BertForSequenceClassification model).\n",
      "[2022-05-18 14:24:11,777] [INFO] Initialized pipeline components: ['transformer', 'textcat_multilabel']\n"
     ]
    }
   ],
   "source": [
    "!spacy init config - --lang en --pipeline textcat_multilabel --optimize accuracy -G | \\\n",
    "spacy train - --paths.train ws_v0/wk14_ws_hwz_45a_12b_training.spacy  --paths.dev ws_v0/wk14_ws_hwz_45a_12b_vaildation.spacy -g 0 \\\n",
    "--output models/wk14_ws_hwz_45a_12b"
   ]
  },
  {
   "cell_type": "code",
   "execution_count": null,
   "id": "629aa412-e901-492f-b0df-6298be056d3d",
   "metadata": {},
   "outputs": [],
   "source": []
  }
 ],
 "metadata": {
  "kernelspec": {
   "display_name": "Python 3 (ipykernel)",
   "language": "python",
   "name": "python3"
  },
  "language_info": {
   "codemirror_mode": {
    "name": "ipython",
    "version": 3
   },
   "file_extension": ".py",
   "mimetype": "text/x-python",
   "name": "python",
   "nbconvert_exporter": "python",
   "pygments_lexer": "ipython3",
   "version": "3.9.10"
  }
 },
 "nbformat": 4,
 "nbformat_minor": 5
}
