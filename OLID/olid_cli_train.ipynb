{
 "cells": [
  {
   "cell_type": "code",
   "execution_count": 5,
   "id": "7c4c2f0f-cc46-4182-b7db-1c49423b4aea",
   "metadata": {},
   "outputs": [
    {
     "name": "stdout",
     "output_type": "stream",
     "text": [
      "[+] Created output directory: models\\wk13_ws_hwz_45a_12b\n",
      "[i] Saving to output directory: models\\wk13_ws_hwz_45a_12b\n",
      "[i] Using GPU: 0\n",
      "\u001b[1m\n",
      "=========================== Initializing pipeline ===========================\u001b[0m\n",
      "[+] Initialized pipeline\n",
      "\u001b[1m\n",
      "============================= Training pipeline =============================\u001b[0m\n",
      "[i] Pipeline: ['transformer', 'textcat_multilabel']\n",
      "[i] Initial learn rate: 0.0\n",
      "E    #       LOSS TRANS...  LOSS TEXTC...  CATS_SCORE  SCORE \n",
      "---  ------  -------------  -------------  ----------  ------\n",
      "  0       0           0.02           0.61       46.77    0.47\n",
      " 14     200           1.24          45.04       84.94    0.85\n",
      " 29     400           0.05           0.22       87.27    0.87\n",
      " 44     600           0.08           1.51       82.11    0.82\n",
      " 58     800           0.00           0.01       82.30    0.82\n",
      " 73    1000           0.07           0.64       81.66    0.82\n",
      " 88    1200           0.04           0.34       85.65    0.86\n",
      "103    1400           0.02           0.13       85.89    0.86\n",
      "117    1600           0.01           0.04       86.39    0.86\n",
      "132    1800           0.00           0.01       88.85    0.89\n",
      "147    2000           0.00           0.00       87.83    0.88\n",
      "161    2200           0.05           3.23       84.16    0.84\n",
      "176    2400           0.02           0.06       77.23    0.77\n",
      "190    2600           0.01           0.00       79.84    0.80\n",
      "205    2800           0.00           0.03       82.54    0.83\n",
      "220    3000           0.00           0.00       82.60    0.83\n",
      "234    3200           0.00           0.00       83.70    0.84\n",
      "249    3400           0.00           0.00       82.19    0.82\n",
      "[+] Saved pipeline to output directory\n",
      "models\\wk13_ws_hwz_45a_12b\\model-last\n"
     ]
    },
    {
     "name": "stderr",
     "output_type": "stream",
     "text": [
      "[2022-05-10 13:40:44,524] [INFO] Set up nlp object from config\n",
      "[2022-05-10 13:40:44,531] [INFO] Pipeline: ['transformer', 'textcat_multilabel']\n",
      "[2022-05-10 13:40:44,533] [INFO] Created vocabulary\n",
      "[2022-05-10 13:40:44,534] [INFO] Finished initializing nlp object\n",
      "Some weights of the model checkpoint at roberta-base were not used when initializing RobertaModel: ['lm_head.layer_norm.bias', 'lm_head.dense.weight', 'lm_head.layer_norm.weight', 'lm_head.dense.bias', 'lm_head.decoder.weight', 'lm_head.bias']\n",
      "- This IS expected if you are initializing RobertaModel from the checkpoint of a model trained on another task or with another architecture (e.g. initializing a BertForSequenceClassification model from a BertForPreTraining model).\n",
      "- This IS NOT expected if you are initializing RobertaModel from the checkpoint of a model that you expect to be exactly identical (initializing a BertForSequenceClassification model from a BertForSequenceClassification model).\n",
      "[2022-05-10 13:41:02,800] [INFO] Initialized pipeline components: ['transformer', 'textcat_multilabel']\n"
     ]
    }
   ],
   "source": [
    "!spacy init config - --lang en --pipeline textcat_multilabel --optimize accuracy -G | \\\n",
    "spacy train - --paths.train ws_v0/wk13_ws_hwz_45a_12b_training.spacy  --paths.dev ws_v0/wk13_ws_hwz_45a_12b_vaildation.spacy -g 0 \\\n",
    "--output models/wk13_ws_hwz_45a_12b"
   ]
  },
  {
   "cell_type": "code",
   "execution_count": null,
   "id": "629aa412-e901-492f-b0df-6298be056d3d",
   "metadata": {},
   "outputs": [],
   "source": []
  }
 ],
 "metadata": {
  "kernelspec": {
   "display_name": "Python 3 (ipykernel)",
   "language": "python",
   "name": "python3"
  },
  "language_info": {
   "codemirror_mode": {
    "name": "ipython",
    "version": 3
   },
   "file_extension": ".py",
   "mimetype": "text/x-python",
   "name": "python",
   "nbconvert_exporter": "python",
   "pygments_lexer": "ipython3",
   "version": "3.9.10"
  }
 },
 "nbformat": 4,
 "nbformat_minor": 5
}
