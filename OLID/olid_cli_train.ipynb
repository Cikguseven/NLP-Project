{
 "cells": [
  {
   "cell_type": "code",
   "execution_count": null,
   "id": "7c4c2f0f-cc46-4182-b7db-1c49423b4aea",
   "metadata": {},
   "outputs": [],
   "source": [
    "!spacy init config - --lang en --pipeline textcat_multilabel --optimize accuracy -G | \\\n",
    "spacy train - --paths.train reddit_v0/v0_weak_signals_training.spacy  --paths.dev reddit_v0/v0_weak_signals_vaildation.spacy -g 0 \\\n",
    "--output models/v0_weak_signals"
   ]
  },
  {
   "cell_type": "code",
   "execution_count": null,
   "id": "b926ae41-ddab-4128-b6e3-0a2c78a6195f",
   "metadata": {},
   "outputs": [],
   "source": []
  },
  {
   "cell_type": "code",
   "execution_count": null,
   "id": "b917b1dc-7b0c-44fc-ae79-ec686ac57dee",
   "metadata": {},
   "outputs": [],
   "source": []
  }
 ],
 "metadata": {
  "kernelspec": {
   "display_name": "Python 3 (ipykernel)",
   "language": "python",
   "name": "python3"
  },
  "language_info": {
   "codemirror_mode": {
    "name": "ipython",
    "version": 3
   },
   "file_extension": ".py",
   "mimetype": "text/x-python",
   "name": "python",
   "nbconvert_exporter": "python",
   "pygments_lexer": "ipython3",
   "version": "3.9.10"
  }
 },
 "nbformat": 4,
 "nbformat_minor": 5
}
