{
 "cells": [
  {
   "cell_type": "code",
   "execution_count": 2,
   "id": "7c4c2f0f-cc46-4182-b7db-1c49423b4aea",
   "metadata": {},
   "outputs": [
    {
     "name": "stdout",
     "output_type": "stream",
     "text": [
      "[+] Created output directory: models\\v0_reddit_handlabelled_uncased_80_10\n",
      "[i] Saving to output directory: models\\v0_reddit_handlabelled_uncased_80_10\n",
      "[i] Using GPU: 0\n",
      "\u001b[1m\n",
      "=========================== Initializing pipeline ===========================\u001b[0m\n",
      "[+] Initialized pipeline\n",
      "\u001b[1m\n",
      "============================= Training pipeline =============================\u001b[0m\n",
      "[i] Pipeline: ['transformer', 'textcat_multilabel']\n",
      "[i] Initial learn rate: 0.0\n",
      "E    #       LOSS TRANS...  LOSS TEXTC...  CATS_SCORE  SCORE \n",
      "---  ------  -------------  -------------  ----------  ------\n",
      "  0       0           0.06           1.02       48.41    0.48\n",
      " 15     200           0.95          16.11       80.38    0.80\n",
      " 30     400           0.09           1.43       75.46    0.75\n",
      " 46     600           0.08           0.64       79.76    0.80\n",
      " 62     800           0.02           0.06       82.80    0.83\n",
      " 78    1000           0.01           0.01       79.23    0.79\n",
      " 93    1200           0.20           1.35       74.71    0.75\n",
      "109    1400           0.04           0.06       84.63    0.85\n",
      "124    1600           0.00           0.01       78.51    0.79\n",
      "139    1800           0.00           0.00       78.49    0.78\n",
      "155    2000           0.00           0.00       79.20    0.79\n",
      "171    2200           0.14           0.63       77.01    0.77"
     ]
    },
    {
     "name": "stderr",
     "output_type": "stream",
     "text": [
      "[2022-04-11 12:05:25,457] [INFO] Set up nlp object from config\n",
      "[2022-04-11 12:05:25,465] [INFO] Pipeline: ['transformer', 'textcat_multilabel']\n",
      "[2022-04-11 12:05:25,467] [INFO] Created vocabulary\n",
      "[2022-04-11 12:05:25,467] [INFO] Finished initializing nlp object\n",
      "Some weights of the model checkpoint at roberta-base were not used when initializing RobertaModel: ['lm_head.bias', 'lm_head.dense.weight', 'lm_head.layer_norm.bias', 'lm_head.decoder.weight', 'lm_head.layer_norm.weight', 'lm_head.dense.bias']\n",
      "- This IS expected if you are initializing RobertaModel from the checkpoint of a model trained on another task or with another architecture (e.g. initializing a BertForSequenceClassification model from a BertForPreTraining model).\n",
      "- This IS NOT expected if you are initializing RobertaModel from the checkpoint of a model that you expect to be exactly identical (initializing a BertForSequenceClassification model from a BertForSequenceClassification model).\n",
      "[2022-04-11 12:05:46,447] [INFO] Initialized pipeline components: ['transformer', 'textcat_multilabel']\n"
     ]
    },
    {
     "name": "stdout",
     "output_type": "stream",
     "text": [
      "\n",
      "186    2400           0.12           4.05       69.01    0.69\n",
      "202    2600           0.00           1.98       75.96    0.76\n",
      "218    2800           0.07           0.33       66.55    0.67\n",
      "233    3000           0.00           0.26       65.40    0.65\n",
      "[+] Saved pipeline to output directory\n",
      "models\\v0_reddit_handlabelled_uncased_80_10\\model-last\n"
     ]
    }
   ],
   "source": [
    "!spacy init config - --lang en --pipeline textcat_multilabel --optimize accuracy -G | \\\n",
    "spacy train - --paths.train reddit_v0/v0_handlabelled_uncased_80_10_training.spacy  --paths.dev reddit_v0/v0_handlabelled_uncased_80_10_vaildation.spacy -g 0 \\\n",
    "--output models/v0_reddit_handlabelled_uncased_80_10"
   ]
  },
  {
   "cell_type": "code",
   "execution_count": null,
   "id": "b926ae41-ddab-4128-b6e3-0a2c78a6195f",
   "metadata": {},
   "outputs": [],
   "source": []
  },
  {
   "cell_type": "code",
   "execution_count": null,
   "id": "b917b1dc-7b0c-44fc-ae79-ec686ac57dee",
   "metadata": {},
   "outputs": [],
   "source": []
  }
 ],
 "metadata": {
  "kernelspec": {
   "display_name": "Python 3 (ipykernel)",
   "language": "python",
   "name": "python3"
  },
  "language_info": {
   "codemirror_mode": {
    "name": "ipython",
    "version": 3
   },
   "file_extension": ".py",
   "mimetype": "text/x-python",
   "name": "python",
   "nbconvert_exporter": "python",
   "pygments_lexer": "ipython3",
   "version": "3.9.10"
  }
 },
 "nbformat": 4,
 "nbformat_minor": 5
}
