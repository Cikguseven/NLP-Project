{
 "cells": [
  {
   "cell_type": "code",
   "execution_count": 3,
   "id": "7c4c2f0f-cc46-4182-b7db-1c49423b4aea",
   "metadata": {},
   "outputs": [
    {
     "name": "stdout",
     "output_type": "stream",
     "text": [
      "[+] Created output directory: models\\wk14_olid_ft_1000\n",
      "[i] Saving to output directory: models\\wk14_olid_ft_1000\n",
      "[i] Using GPU: 0\n",
      "\u001b[1m\n",
      "=========================== Initializing pipeline ===========================\u001b[0m\n",
      "[+] Initialized pipeline\n",
      "\u001b[1m\n",
      "============================= Training pipeline =============================\u001b[0m\n",
      "[i] Pipeline: ['transformer', 'textcat_multilabel']\n",
      "[i] Initial learn rate: 0.0\n",
      "E    #       LOSS TRANS...  LOSS TEXTC...  CATS_SCORE  SCORE \n",
      "---  ------  -------------  -------------  ----------  ------\n",
      "  0       0           0.11           4.06        0.00    0.00\n",
      " 14     200           2.34          46.50        0.00    0.00\n",
      " 28     400           0.39           1.51        0.00    0.00\n",
      " 42     600           0.02           0.04        0.00    0.00\n",
      " 56     800           0.09           0.09        0.00    0.00\n",
      " 70    1000           0.02           0.02        0.00    0.00\n",
      " 84    1200           0.08           0.05        0.00    0.00\n",
      " 98    1400           0.16           0.48        0.00    0.00\n",
      "112    1600           0.02           0.03        0.00    0.00\n",
      "[+] Saved pipeline to output directory\n",
      "models\\wk14_olid_ft_1000\\model-last\n"
     ]
    },
    {
     "name": "stderr",
     "output_type": "stream",
     "text": [
      "[2022-05-17 17:41:13,235] [INFO] Set up nlp object from config\n",
      "[2022-05-17 17:41:13,243] [INFO] Pipeline: ['transformer', 'textcat_multilabel']\n",
      "[2022-05-17 17:41:13,245] [INFO] Created vocabulary\n",
      "[2022-05-17 17:41:13,246] [INFO] Finished initializing nlp object\n",
      "Some weights of the model checkpoint at roberta-base were not used when initializing RobertaModel: ['lm_head.decoder.weight', 'lm_head.layer_norm.bias', 'lm_head.dense.weight', 'lm_head.dense.bias', 'lm_head.bias', 'lm_head.layer_norm.weight']\n",
      "- This IS expected if you are initializing RobertaModel from the checkpoint of a model trained on another task or with another architecture (e.g. initializing a BertForSequenceClassification model from a BertForPreTraining model).\n",
      "- This IS NOT expected if you are initializing RobertaModel from the checkpoint of a model that you expect to be exactly identical (initializing a BertForSequenceClassification model from a BertForSequenceClassification model).\n",
      "[2022-05-17 17:41:30,818] [INFO] Initialized pipeline components: ['transformer', 'textcat_multilabel']\n"
     ]
    }
   ],
   "source": [
    "!spacy init config - --lang en --pipeline textcat_multilabel --optimize accuracy -G | \\\n",
    "spacy train - --paths.train ws_v0/wk14_olid_ft_1000_training.spacy  --paths.dev ws_v0/wk14_olid_ft_1000_vaildation.spacy -g 0 \\\n",
    "--output models/wk14_olid_ft_1000"
   ]
  },
  {
   "cell_type": "code",
   "execution_count": null,
   "id": "629aa412-e901-492f-b0df-6298be056d3d",
   "metadata": {},
   "outputs": [],
   "source": []
  }
 ],
 "metadata": {
  "kernelspec": {
   "display_name": "Python 3 (ipykernel)",
   "language": "python",
   "name": "python3"
  },
  "language_info": {
   "codemirror_mode": {
    "name": "ipython",
    "version": 3
   },
   "file_extension": ".py",
   "mimetype": "text/x-python",
   "name": "python",
   "nbconvert_exporter": "python",
   "pygments_lexer": "ipython3",
   "version": "3.9.10"
  }
 },
 "nbformat": 4,
 "nbformat_minor": 5
}
