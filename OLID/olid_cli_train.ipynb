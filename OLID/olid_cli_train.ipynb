{
 "cells": [
  {
   "cell_type": "code",
   "execution_count": 2,
   "id": "7c4c2f0f-cc46-4182-b7db-1c49423b4aea",
   "metadata": {},
   "outputs": [
    {
     "name": "stdout",
     "output_type": "stream",
     "text": [
      "[+] Created output directory: models\\v0_weak_signals_40a_5b\n",
      "[i] Saving to output directory: models\\v0_weak_signals_40a_5b\n",
      "[i] Using GPU: 0\n",
      "\u001b[1m\n",
      "=========================== Initializing pipeline ===========================\u001b[0m\n",
      "[+] Initialized pipeline\n",
      "\u001b[1m\n",
      "============================= Training pipeline =============================\u001b[0m\n",
      "[i] Pipeline: ['transformer', 'textcat_multilabel']\n",
      "[i] Initial learn rate: 0.0\n",
      "E    #       LOSS TRANS...  LOSS TEXTC...  CATS_SCORE  SCORE \n",
      "---  ------  -------------  -------------  ----------  ------\n",
      "  0       0           0.03           1.27       50.51    0.51\n",
      "  1     200           3.13          80.88       90.69    0.91\n",
      "  2     400           1.78          46.48       94.54    0.95\n",
      "  4     600           1.21          20.81       94.54    0.95\n",
      "  5     800           0.56           6.42       95.60    0.96\n",
      "  7    1000           0.84           3.89       95.69    0.96\n",
      "  8    1200           0.28           3.14       95.33    0.95\n",
      "  9    1400           0.28           5.08       95.54    0.96\n",
      " 11    1600           0.08           1.29       95.88    0.96\n",
      " 12    1800           0.17           0.82       95.10    0.95\n",
      " 13    2000           0.27           3.77       95.28    0.95\n",
      " 15    2200           0.15           0.87       94.82    0.95\n",
      " 16    2400           0.22           1.57       94.80    0.95\n",
      " 18    2600           0.06           0.24       94.42    0.94\n",
      " 19    2800           0.09           0.29       95.27    0.95\n",
      " 20    3000           0.11           1.74       93.92    0.94\n",
      " 22    3200           0.08           0.44       95.08    0.95\n",
      "[+] Saved pipeline to output directory\n",
      "models\\v0_weak_signals_40a_5b\\model-last\n"
     ]
    },
    {
     "name": "stderr",
     "output_type": "stream",
     "text": [
      "[2022-04-27 15:31:25,269] [INFO] Set up nlp object from config\n",
      "[2022-04-27 15:31:25,276] [INFO] Pipeline: ['transformer', 'textcat_multilabel']\n",
      "[2022-04-27 15:31:25,279] [INFO] Created vocabulary\n",
      "[2022-04-27 15:31:25,280] [INFO] Finished initializing nlp object\n",
      "Some weights of the model checkpoint at roberta-base were not used when initializing RobertaModel: ['lm_head.dense.weight', 'lm_head.layer_norm.weight', 'lm_head.layer_norm.bias', 'lm_head.bias', 'lm_head.dense.bias', 'lm_head.decoder.weight']\n",
      "- This IS expected if you are initializing RobertaModel from the checkpoint of a model trained on another task or with another architecture (e.g. initializing a BertForSequenceClassification model from a BertForPreTraining model).\n",
      "- This IS NOT expected if you are initializing RobertaModel from the checkpoint of a model that you expect to be exactly identical (initializing a BertForSequenceClassification model from a BertForSequenceClassification model).\n",
      "[2022-04-27 15:31:48,800] [INFO] Initialized pipeline components: ['transformer', 'textcat_multilabel']\n"
     ]
    }
   ],
   "source": [
    "!spacy init config - --lang en --pipeline textcat_multilabel --optimize accuracy -G | \\\n",
    "spacy train - --paths.train ws_v0/v0_weak_signals_40a_5b_training.spacy  --paths.dev ws_v0/v0_weak_signals_40a_5b_vaildation.spacy -g 0 \\\n",
    "--output models/ws_v0_40a_5b"
   ]
  },
  {
   "cell_type": "code",
   "execution_count": null,
   "id": "b926ae41-ddab-4128-b6e3-0a2c78a6195f",
   "metadata": {},
   "outputs": [],
   "source": []
  }
 ],
 "metadata": {
  "kernelspec": {
   "display_name": "Python 3 (ipykernel)",
   "language": "python",
   "name": "python3"
  },
  "language_info": {
   "codemirror_mode": {
    "name": "ipython",
    "version": 3
   },
   "file_extension": ".py",
   "mimetype": "text/x-python",
   "name": "python",
   "nbconvert_exporter": "python",
   "pygments_lexer": "ipython3",
   "version": "3.9.10"
  }
 },
 "nbformat": 4,
 "nbformat_minor": 5
}
