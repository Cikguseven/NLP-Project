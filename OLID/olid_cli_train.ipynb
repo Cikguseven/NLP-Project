{
 "cells": [
  {
   "cell_type": "code",
   "execution_count": 6,
   "id": "7c4c2f0f-cc46-4182-b7db-1c49423b4aea",
   "metadata": {},
   "outputs": [
    {
     "name": "stdout",
     "output_type": "stream",
     "text": [
      "[+] Created output directory:\n",
      "models\\wk14_ws_v1_60a_10b_lexicon1_tc9removed_13240\n",
      "[i] Saving to output directory:\n",
      "models\\wk14_ws_v1_60a_10b_lexicon1_tc9removed_13240\n",
      "[i] Using GPU: 0\n",
      "\u001b[1m\n",
      "=========================== Initializing pipeline ===========================\u001b[0m\n",
      "[+] Initialized pipeline\n",
      "\u001b[1m\n",
      "============================= Training pipeline =============================\u001b[0m\n",
      "[i] Pipeline: ['transformer', 'textcat_multilabel']\n",
      "[i] Initial learn rate: 0.0\n",
      "E    #       LOSS TRANS...  LOSS TEXTC...  CATS_SCORE  SCORE \n",
      "---  ------  -------------  -------------  ----------  ------\n",
      "  0       0           0.04           1.10       50.88    0.51\n",
      "  1     200           2.53          71.30       93.79    0.94\n",
      "  2     400           2.41          47.30       95.09    0.95\n",
      "  3     600           2.33          26.79       95.88    0.96\n",
      "  4     800           1.31          12.60       96.20    0.96\n",
      "  5    1000           0.89          13.17       96.01    0.96\n",
      "  6    1200           1.13           8.95       96.09    0.96\n",
      "  7    1400           0.80           5.31       95.81    0.96\n",
      "  8    1600           0.59           5.78       96.05    0.96\n",
      "  9    1800           0.27           4.46       95.76    0.96\n",
      " 10    2000           0.62           2.59       95.61    0.96\n",
      " 11    2200           0.52           5.85       95.73    0.96\n",
      " 12    2400           0.37           2.74       95.68    0.96\n",
      "[+] Saved pipeline to output directory\n",
      "models\\wk14_ws_v1_60a_10b_lexicon1_tc9removed_13240\\model-last\n"
     ]
    },
    {
     "name": "stderr",
     "output_type": "stream",
     "text": [
      "[2022-05-18 12:50:37,089] [INFO] Set up nlp object from config\n",
      "[2022-05-18 12:50:37,096] [INFO] Pipeline: ['transformer', 'textcat_multilabel']\n",
      "[2022-05-18 12:50:37,099] [INFO] Created vocabulary\n",
      "[2022-05-18 12:50:37,099] [INFO] Finished initializing nlp object\n",
      "Some weights of the model checkpoint at roberta-base were not used when initializing RobertaModel: ['lm_head.bias', 'lm_head.dense.weight', 'lm_head.layer_norm.bias', 'lm_head.decoder.weight', 'lm_head.layer_norm.weight', 'lm_head.dense.bias']\n",
      "- This IS expected if you are initializing RobertaModel from the checkpoint of a model trained on another task or with another architecture (e.g. initializing a BertForSequenceClassification model from a BertForPreTraining model).\n",
      "- This IS NOT expected if you are initializing RobertaModel from the checkpoint of a model that you expect to be exactly identical (initializing a BertForSequenceClassification model from a BertForSequenceClassification model).\n",
      "[2022-05-18 12:51:01,331] [INFO] Initialized pipeline components: ['transformer', 'textcat_multilabel']\n"
     ]
    }
   ],
   "source": [
    "!spacy init config - --lang en --pipeline textcat_multilabel --optimize accuracy -G | \\\n",
    "spacy train - --paths.train ws_v0/wk14_ws_v1_60a_10b_lexicon1_tc9removed_13240_training.spacy  --paths.dev ws_v0/wk14_ws_v1_60a_10b_lexicon1_tc9removed_13240_vaildation.spacy -g 0 \\\n",
    "--output models/wk14_ws_v1_60a_10b_lexicon1_tc9removed_13240"
   ]
  },
  {
   "cell_type": "code",
   "execution_count": null,
   "id": "629aa412-e901-492f-b0df-6298be056d3d",
   "metadata": {},
   "outputs": [],
   "source": []
  }
 ],
 "metadata": {
  "kernelspec": {
   "display_name": "Python 3 (ipykernel)",
   "language": "python",
   "name": "python3"
  },
  "language_info": {
   "codemirror_mode": {
    "name": "ipython",
    "version": 3
   },
   "file_extension": ".py",
   "mimetype": "text/x-python",
   "name": "python",
   "nbconvert_exporter": "python",
   "pygments_lexer": "ipython3",
   "version": "3.9.10"
  }
 },
 "nbformat": 4,
 "nbformat_minor": 5
}
