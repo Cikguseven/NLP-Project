{
 "cells": [
  {
   "cell_type": "code",
   "execution_count": 3,
   "id": "7c4c2f0f-cc46-4182-b7db-1c49423b4aea",
   "metadata": {},
   "outputs": [
    {
     "name": "stdout",
     "output_type": "stream",
     "text": [
      "[+] Created output directory: models\\wk13_ws_hwz_60a_15b\n",
      "[i] Saving to output directory: models\\wk13_ws_hwz_60a_15b\n",
      "[i] Using GPU: 0\n",
      "\u001b[1m\n",
      "=========================== Initializing pipeline ===========================\u001b[0m\n",
      "[+] Initialized pipeline\n",
      "\u001b[1m\n",
      "============================= Training pipeline =============================\u001b[0m\n",
      "[i] Pipeline: ['transformer', 'textcat_multilabel']\n",
      "[i] Initial learn rate: 0.0\n",
      "E    #       LOSS TRANS...  LOSS TEXTC...  CATS_SCORE  SCORE \n",
      "---  ------  -------------  -------------  ----------  ------\n",
      "  0       0           0.02           0.57       33.41    0.33\n",
      " 14     200           1.39          48.15       67.36    0.67\n",
      " 29     400           0.11           0.56       67.77    0.68\n",
      " 44     600           0.01           0.02       69.54    0.70\n",
      " 58     800           0.07           0.37       70.94    0.71\n",
      " 73    1000           0.01           0.01       72.51    0.73\n",
      " 88    1200           0.00           0.00       72.09    0.72\n",
      "103    1400           0.12           3.20       70.69    0.71\n",
      "117    1600           0.05           0.49       69.40    0.69\n",
      "132    1800           0.00           0.01       70.21    0.70\n",
      "147    2000           0.00           0.00       70.06    0.70\n",
      "161    2200           0.00           0.00       69.93    0.70\n",
      "176    2400           0.00           0.00       69.97    0.70\n",
      "190    2600           0.00           0.00       70.73    0.71\n",
      "[+] Saved pipeline to output directory\n",
      "models\\wk13_ws_hwz_60a_15b\\model-last\n"
     ]
    },
    {
     "name": "stderr",
     "output_type": "stream",
     "text": [
      "[2022-05-10 11:03:53,616] [INFO] Set up nlp object from config\n",
      "[2022-05-10 11:03:53,623] [INFO] Pipeline: ['transformer', 'textcat_multilabel']\n",
      "[2022-05-10 11:03:53,626] [INFO] Created vocabulary\n",
      "[2022-05-10 11:03:53,626] [INFO] Finished initializing nlp object\n",
      "Some weights of the model checkpoint at roberta-base were not used when initializing RobertaModel: ['lm_head.layer_norm.bias', 'lm_head.bias', 'lm_head.decoder.weight', 'lm_head.dense.bias', 'lm_head.layer_norm.weight', 'lm_head.dense.weight']\n",
      "- This IS expected if you are initializing RobertaModel from the checkpoint of a model trained on another task or with another architecture (e.g. initializing a BertForSequenceClassification model from a BertForPreTraining model).\n",
      "- This IS NOT expected if you are initializing RobertaModel from the checkpoint of a model that you expect to be exactly identical (initializing a BertForSequenceClassification model from a BertForSequenceClassification model).\n",
      "[2022-05-10 11:04:11,644] [INFO] Initialized pipeline components: ['transformer', 'textcat_multilabel']\n"
     ]
    }
   ],
   "source": [
    "!spacy init config - --lang en --pipeline textcat_multilabel --optimize accuracy -G | \\\n",
    "spacy train - --paths.train ws_v0/wk13_ws_hwz_60a_15b_training.spacy  --paths.dev ws_v0/wk13_ws_hwz_60a_15b_vaildation.spacy -g 0 \\\n",
    "--output models/wk13_ws_hwz_60a_15b"
   ]
  },
  {
   "cell_type": "code",
   "execution_count": null,
   "id": "629aa412-e901-492f-b0df-6298be056d3d",
   "metadata": {},
   "outputs": [],
   "source": []
  }
 ],
 "metadata": {
  "kernelspec": {
   "display_name": "Python 3 (ipykernel)",
   "language": "python",
   "name": "python3"
  },
  "language_info": {
   "codemirror_mode": {
    "name": "ipython",
    "version": 3
   },
   "file_extension": ".py",
   "mimetype": "text/x-python",
   "name": "python",
   "nbconvert_exporter": "python",
   "pygments_lexer": "ipython3",
   "version": "3.9.10"
  }
 },
 "nbformat": 4,
 "nbformat_minor": 5
}
