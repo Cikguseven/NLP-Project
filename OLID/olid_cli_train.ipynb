{
 "cells": [
  {
   "cell_type": "code",
   "execution_count": 1,
   "id": "7c4c2f0f-cc46-4182-b7db-1c49423b4aea",
   "metadata": {},
   "outputs": [
    {
     "name": "stdout",
     "output_type": "stream",
     "text": [
      "[+] Created output directory: models\\ws_v1_50a_10b_lexicon1_tc9removed\n",
      "[i] Saving to output directory: models\\ws_v1_50a_10b_lexicon1_tc9removed\n",
      "[i] Using GPU: 0\n",
      "\u001b[1m\n",
      "=========================== Initializing pipeline ===========================\u001b[0m\n",
      "[+] Initialized pipeline\n",
      "\u001b[1m\n",
      "============================= Training pipeline =============================\u001b[0m\n",
      "[i] Pipeline: ['transformer', 'textcat_multilabel']\n",
      "[i] Initial learn rate: 0.0\n",
      "E    #       LOSS TRANS...  LOSS TEXTC...  CATS_SCORE  SCORE \n",
      "---  ------  -------------  -------------  ----------  ------\n",
      "  0       0           0.03           1.27       50.29    0.50\n",
      "  1     200           3.15          75.67       91.90    0.92\n",
      "  2     400           1.92          39.55       94.46    0.94\n",
      "  4     600           1.57          21.15       94.97    0.95\n",
      "  5     800           1.01          14.03       95.40    0.95\n",
      "  7    1000           0.91          10.75       94.71    0.95\n",
      "  8    1200           0.48           5.86       95.24    0.95\n",
      "  9    1400           0.22           3.19       94.52    0.95\n",
      " 11    1600           0.33           4.16       95.04    0.95\n",
      " 12    1800           2.03           1.70       94.64    0.95\n",
      " 13    2000           0.75           5.58       94.82    0.95\n",
      " 15    2200           0.10           3.09       94.91    0.95\n",
      " 16    2400           0.11           3.60       94.98    0.95\n",
      "[+] Saved pipeline to output directory\n",
      "models\\ws_v1_50a_10b_lexicon1_tc9removed\\model-last\n"
     ]
    },
    {
     "name": "stderr",
     "output_type": "stream",
     "text": [
      "[2022-04-30 15:55:05,926] [INFO] Set up nlp object from config\n",
      "[2022-04-30 15:55:05,933] [INFO] Pipeline: ['transformer', 'textcat_multilabel']\n",
      "[2022-04-30 15:55:05,935] [INFO] Created vocabulary\n",
      "[2022-04-30 15:55:05,936] [INFO] Finished initializing nlp object\n",
      "Some weights of the model checkpoint at roberta-base were not used when initializing RobertaModel: ['lm_head.bias', 'lm_head.layer_norm.weight', 'lm_head.layer_norm.bias', 'lm_head.dense.bias', 'lm_head.decoder.weight', 'lm_head.dense.weight']\n",
      "- This IS expected if you are initializing RobertaModel from the checkpoint of a model trained on another task or with another architecture (e.g. initializing a BertForSequenceClassification model from a BertForPreTraining model).\n",
      "- This IS NOT expected if you are initializing RobertaModel from the checkpoint of a model that you expect to be exactly identical (initializing a BertForSequenceClassification model from a BertForSequenceClassification model).\n",
      "[2022-04-30 15:55:28,626] [INFO] Initialized pipeline components: ['transformer', 'textcat_multilabel']\n"
     ]
    }
   ],
   "source": [
    "!spacy init config - --lang en --pipeline textcat_multilabel --optimize accuracy -G | \\\n",
    "spacy train - --paths.train ws_v0/ws_v1_40a_10b_lexicon1_training.spacy  --paths.dev ws_v0/ws_v1_40a_10b_lexicon1_vaildation.spacy -g 0 \\\n",
    "--output models/ws_v1_50a_10b_lexicon1_tc9removed"
   ]
  },
  {
   "cell_type": "code",
   "execution_count": null,
   "id": "b926ae41-ddab-4128-b6e3-0a2c78a6195f",
   "metadata": {},
   "outputs": [],
   "source": []
  }
 ],
 "metadata": {
  "kernelspec": {
   "display_name": "Python 3 (ipykernel)",
   "language": "python",
   "name": "python3"
  },
  "language_info": {
   "codemirror_mode": {
    "name": "ipython",
    "version": 3
   },
   "file_extension": ".py",
   "mimetype": "text/x-python",
   "name": "python",
   "nbconvert_exporter": "python",
   "pygments_lexer": "ipython3",
   "version": "3.9.10"
  }
 },
 "nbformat": 4,
 "nbformat_minor": 5
}
