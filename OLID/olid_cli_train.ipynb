{
 "cells": [
  {
   "cell_type": "code",
   "execution_count": null,
   "id": "7c4c2f0f-cc46-4182-b7db-1c49423b4aea",
   "metadata": {},
   "outputs": [],
   "source": [
    "!spacy init config - --lang en --pipeline textcat_multilabel --optimize accuracy -G | \\\n",
    "spacy train - --paths.train ws_v0/ws_v1_60a_10b_lexicon1_tc9removed_1000train_training.spacy  --paths.dev ws_v0/ws_v1_60a_10b_lexicon1_tc9removed_1000train_vaildation.spacy -g 0 \\\n",
    "--output models/ws_v1_60a_10b_lexicon1_tc9removed_1000train"
   ]
  },
  {
   "cell_type": "code",
   "execution_count": null,
   "id": "629aa412-e901-492f-b0df-6298be056d3d",
   "metadata": {},
   "outputs": [],
   "source": []
  }
 ],
 "metadata": {
  "kernelspec": {
   "display_name": "Python 3 (ipykernel)",
   "language": "python",
   "name": "python3"
  },
  "language_info": {
   "codemirror_mode": {
    "name": "ipython",
    "version": 3
   },
   "file_extension": ".py",
   "mimetype": "text/x-python",
   "name": "python",
   "nbconvert_exporter": "python",
   "pygments_lexer": "ipython3",
   "version": "3.9.10"
  }
 },
 "nbformat": 4,
 "nbformat_minor": 5
}
