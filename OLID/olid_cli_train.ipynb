{
 "cells": [
  {
   "cell_type": "code",
   "execution_count": 1,
   "id": "7c4c2f0f-cc46-4182-b7db-1c49423b4aea",
   "metadata": {},
   "outputs": [
    {
     "name": "stdout",
     "output_type": "stream",
     "text": [
      "[+] Created output directory: models\\ws_v1_30a_10b_lexicon20_tc9removed\n",
      "[i] Saving to output directory: models\\ws_v1_30a_10b_lexicon20_tc9removed\n",
      "[i] Using GPU: 0\n",
      "\u001b[1m\n",
      "=========================== Initializing pipeline ===========================\u001b[0m\n",
      "[+] Initialized pipeline\n",
      "\u001b[1m\n",
      "============================= Training pipeline =============================\u001b[0m\n",
      "[i] Pipeline: ['transformer', 'textcat_multilabel']\n",
      "[i] Initial learn rate: 0.0\n",
      "E    #       LOSS TRANS...  LOSS TEXTC...  CATS_SCORE  SCORE \n",
      "---  ------  -------------  -------------  ----------  ------\n",
      "  0       0           0.02           1.21       50.60    0.51\n",
      "  1     200           3.72          88.21       90.61    0.91\n",
      "  2     400           2.51          55.35       93.89    0.94\n",
      "  4     600           1.59          26.86       94.94    0.95\n",
      "  5     800           1.06          10.76       95.59    0.96\n",
      "  7    1000           0.97           7.10       95.82    0.96\n",
      "  8    1200           0.57           7.79       95.71    0.96\n",
      "  9    1400           0.69           3.08       95.71    0.96\n",
      " 11    1600           0.22           1.15       95.42    0.95\n",
      " 12    1800           0.21           3.36       95.32    0.95\n",
      " 13    2000           0.55           2.07       94.79    0.95\n",
      " 15    2200           0.27           0.77       95.29    0.95\n",
      " 16    2400           0.59           2.02       95.16    0.95\n",
      " 18    2600           0.40           1.69       94.76    0.95\n",
      "[+] Saved pipeline to output directory\n",
      "models\\ws_v1_30a_10b_lexicon20_tc9removed\\model-last\n"
     ]
    },
    {
     "name": "stderr",
     "output_type": "stream",
     "text": [
      "[2022-04-29 10:00:56,435] [INFO] Set up nlp object from config\n",
      "[2022-04-29 10:00:56,445] [INFO] Pipeline: ['transformer', 'textcat_multilabel']\n",
      "[2022-04-29 10:00:56,449] [INFO] Created vocabulary\n",
      "[2022-04-29 10:00:56,450] [INFO] Finished initializing nlp object\n",
      "Some weights of the model checkpoint at roberta-base were not used when initializing RobertaModel: ['lm_head.dense.weight', 'lm_head.dense.bias', 'lm_head.bias', 'lm_head.layer_norm.weight', 'lm_head.decoder.weight', 'lm_head.layer_norm.bias']\n",
      "- This IS expected if you are initializing RobertaModel from the checkpoint of a model trained on another task or with another architecture (e.g. initializing a BertForSequenceClassification model from a BertForPreTraining model).\n",
      "- This IS NOT expected if you are initializing RobertaModel from the checkpoint of a model that you expect to be exactly identical (initializing a BertForSequenceClassification model from a BertForSequenceClassification model).\n",
      "[2022-04-29 10:01:20,311] [INFO] Initialized pipeline components: ['transformer', 'textcat_multilabel']\n"
     ]
    }
   ],
   "source": [
    "!spacy init config - --lang en --pipeline textcat_multilabel --optimize accuracy -G | \\\n",
    "spacy train - --paths.train ws_v0/ws_v1_30a_10b_lexicon20training.spacy  --paths.dev ws_v0/ws_v1_30a_10b_lexicon20vaildation.spacy -g 0 \\\n",
    "--output models/ws_v1_30a_10b_lexicon20_tc9removed"
   ]
  },
  {
   "cell_type": "code",
   "execution_count": null,
   "id": "b926ae41-ddab-4128-b6e3-0a2c78a6195f",
   "metadata": {},
   "outputs": [],
   "source": []
  }
 ],
 "metadata": {
  "kernelspec": {
   "display_name": "Python 3 (ipykernel)",
   "language": "python",
   "name": "python3"
  },
  "language_info": {
   "codemirror_mode": {
    "name": "ipython",
    "version": 3
   },
   "file_extension": ".py",
   "mimetype": "text/x-python",
   "name": "python",
   "nbconvert_exporter": "python",
   "pygments_lexer": "ipython3",
   "version": "3.9.10"
  }
 },
 "nbformat": 4,
 "nbformat_minor": 5
}
