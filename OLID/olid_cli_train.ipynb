{
 "cells": [
  {
   "cell_type": "code",
   "execution_count": 1,
   "id": "7c4c2f0f-cc46-4182-b7db-1c49423b4aea",
   "metadata": {},
   "outputs": [
    {
     "name": "stdout",
     "output_type": "stream",
     "text": [
      "[+] Created output directory: models\\ws_v1_60a_15b_lexicon1_tc9removed\n",
      "[i] Saving to output directory: models\\ws_v1_60a_15b_lexicon1_tc9removed\n",
      "[i] Using GPU: 0\n",
      "\u001b[1m\n",
      "=========================== Initializing pipeline ===========================\u001b[0m\n",
      "[+] Initialized pipeline\n",
      "\u001b[1m\n",
      "============================= Training pipeline =============================\u001b[0m\n",
      "[i] Pipeline: ['transformer', 'textcat_multilabel']\n",
      "[i] Initial learn rate: 0.0\n",
      "E    #       LOSS TRANS...  LOSS TEXTC...  CATS_SCORE  SCORE \n",
      "---  ------  -------------  -------------  ----------  ------\n",
      "  0       0           0.03           1.27       49.10    0.49\n",
      "  1     200           3.13          72.52       92.76    0.93\n",
      "  2     400           1.98          35.08       94.49    0.94\n",
      "  4     600           1.45          24.57       95.17    0.95\n",
      "  5     800           1.39          17.84       95.09    0.95\n",
      "  7    1000           1.61           7.80       95.79    0.96\n",
      "  8    1200           0.36           2.25       95.37    0.95\n",
      "  9    1400           0.27           6.85       95.53    0.96\n",
      " 11    1600           0.55           3.02       95.01    0.95\n",
      " 12    1800           0.79           3.13       94.90    0.95\n",
      " 13    2000           0.22           5.53       95.04    0.95\n",
      " 15    2200           0.19           1.31       94.87    0.95\n",
      " 16    2400           0.26           1.80       94.16    0.94\n",
      " 18    2600           0.17           1.53       94.15    0.94\n",
      "[+] Saved pipeline to output directory\n",
      "models\\ws_v1_60a_15b_lexicon1_tc9removed\\model-last\n"
     ]
    },
    {
     "name": "stderr",
     "output_type": "stream",
     "text": [
      "[2022-05-01 14:37:44,951] [INFO] Set up nlp object from config\n",
      "[2022-05-01 14:37:44,958] [INFO] Pipeline: ['transformer', 'textcat_multilabel']\n",
      "[2022-05-01 14:37:44,961] [INFO] Created vocabulary\n",
      "[2022-05-01 14:37:44,962] [INFO] Finished initializing nlp object\n",
      "Some weights of the model checkpoint at roberta-base were not used when initializing RobertaModel: ['lm_head.dense.bias', 'lm_head.layer_norm.bias', 'lm_head.bias', 'lm_head.layer_norm.weight', 'lm_head.dense.weight', 'lm_head.decoder.weight']\n",
      "- This IS expected if you are initializing RobertaModel from the checkpoint of a model trained on another task or with another architecture (e.g. initializing a BertForSequenceClassification model from a BertForPreTraining model).\n",
      "- This IS NOT expected if you are initializing RobertaModel from the checkpoint of a model that you expect to be exactly identical (initializing a BertForSequenceClassification model from a BertForSequenceClassification model).\n",
      "[2022-05-01 14:38:08,401] [INFO] Initialized pipeline components: ['transformer', 'textcat_multilabel']\n"
     ]
    }
   ],
   "source": [
    "!spacy init config - --lang en --pipeline textcat_multilabel --optimize accuracy -G | \\\n",
    "spacy train - --paths.train ws_v0/ws_v1_60a_15b_lexicon1_training.spacy  --paths.dev ws_v0/ws_v1_60a_15b_lexicon1_vaildation.spacy -g 0 \\\n",
    "--output models/ws_v1_60a_15b_lexicon1_tc9removed"
   ]
  },
  {
   "cell_type": "code",
   "execution_count": null,
   "id": "b926ae41-ddab-4128-b6e3-0a2c78a6195f",
   "metadata": {},
   "outputs": [],
   "source": []
  }
 ],
 "metadata": {
  "kernelspec": {
   "display_name": "Python 3 (ipykernel)",
   "language": "python",
   "name": "python3"
  },
  "language_info": {
   "codemirror_mode": {
    "name": "ipython",
    "version": 3
   },
   "file_extension": ".py",
   "mimetype": "text/x-python",
   "name": "python",
   "nbconvert_exporter": "python",
   "pygments_lexer": "ipython3",
   "version": "3.9.10"
  }
 },
 "nbformat": 4,
 "nbformat_minor": 5
}
