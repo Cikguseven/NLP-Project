{
 "cells": [
  {
   "cell_type": "code",
   "execution_count": null,
   "id": "1a871c65-d57e-4d09-a350-5472114ce52c",
   "metadata": {},
   "outputs": [],
   "source": [
    "!spacy init config - --lang en --pipeline ner --optimize accuracy -G | \\\n",
    "spacy train - --paths.train NER_v7/v7_train_75_cased.spacy  --paths.dev NER_v7/v7_val_25_cased.spacy -g 0 \\\n",
    "--output models/v7"
   ]
  },
  {
   "cell_type": "code",
   "execution_count": null,
   "id": "8add76ae-a59e-4ce6-a1a2-1114be50ceba",
   "metadata": {
    "scrolled": true,
    "tags": []
   },
   "outputs": [],
   "source": []
  }
 ],
 "metadata": {
  "kernelspec": {
   "display_name": "Python 3 (ipykernel)",
   "language": "python",
   "name": "python3"
  },
  "language_info": {
   "codemirror_mode": {
    "name": "ipython",
    "version": 3
   },
   "file_extension": ".py",
   "mimetype": "text/x-python",
   "name": "python",
   "nbconvert_exporter": "python",
   "pygments_lexer": "ipython3",
   "version": "3.9.10"
  }
 },
 "nbformat": 4,
 "nbformat_minor": 5
}
