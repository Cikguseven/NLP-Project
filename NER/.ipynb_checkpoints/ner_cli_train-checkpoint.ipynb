{
 "cells": [
  {
   "cell_type": "code",
   "execution_count": 2,
   "id": "1a871c65-d57e-4d09-a350-5472114ce52c",
   "metadata": {},
   "outputs": [
    {
     "name": "stdout",
     "output_type": "stream",
     "text": [
      "[+] Created output directory: Weak_Supervision_v4\\model\n",
      "[i] Saving to output directory: Weak_Supervision_v4\\model\n",
      "[i] Using GPU: 0\n",
      "\u001b[1m\n",
      "=========================== Initializing pipeline ===========================\u001b[0m\n",
      "[+] Initialized pipeline\n",
      "\u001b[1m\n",
      "============================= Training pipeline =============================\u001b[0m\n",
      "[i] Pipeline: ['transformer', 'ner']\n",
      "[i] Initial learn rate: 0.0\n",
      "E    #       LOSS TRANS...  LOSS NER  ENTS_F  ENTS_P  ENTS_R  SCORE \n",
      "---  ------  -------------  --------  ------  ------  ------  ------\n",
      "  0       0         726.59    941.24    1.51    0.79   18.63    0.02\n",
      "  0     200      140839.03  66941.66   71.56   79.02   65.39    0.72\n",
      "  1     400        4750.42   6789.11   80.34   82.36   78.41    0.80\n",
      "  2     600        3796.24   5423.07   83.10   85.50   80.83    0.83\n",
      "  3     800        2934.20   4437.70   83.14   84.45   81.87    0.83\n",
      "  4    1000        2428.87   3731.06   84.35   87.12   81.75    0.84\n",
      "  4    1200        1815.59   2875.66   83.36   85.62   81.22    0.83\n",
      "  5    1400        1614.48   2473.18   82.75   84.70   80.89    0.83\n",
      "  6    1600        1362.16   2114.22   85.20   88.21   82.39    0.85\n",
      "  7    1800        1137.89   1772.59   83.74   81.60   85.99    0.84\n",
      "  8    2000        1137.64   1582.80   84.26   85.19   83.34    0.84\n",
      "  8    2200        1455.19   2132.99   78.65   85.08   73.13    0.79\n",
      "  9    2400         807.36   1188.19   85.18   87.42   83.05    0.85\n",
      " 10    2600         713.64   1091.61   84.59   85.39   83.80    0.85\n",
      " 11    2800         645.63    928.14   85.17   88.06   82.46    0.85\n",
      " 12    3000         549.16    837.06   83.87   83.92   83.83    0.84\n",
      " 12    3200         452.54    754.87   84.90   88.39   81.68    0.85\n",
      "[+] Saved pipeline to output directory\n",
      "Weak_Supervision_v4\\model\\model-last\n"
     ]
    },
    {
     "name": "stderr",
     "output_type": "stream",
     "text": [
      "[2022-03-24 19:39:56,429] [INFO] Set up nlp object from config\n",
      "[2022-03-24 19:39:56,438] [INFO] Pipeline: ['transformer', 'ner']\n",
      "[2022-03-24 19:39:56,440] [INFO] Created vocabulary\n",
      "[2022-03-24 19:39:58,171] [INFO] Added vectors: en_core_web_lg\n",
      "[2022-03-24 19:39:59,525] [INFO] Finished initializing nlp object\n",
      "Some weights of the model checkpoint at roberta-base were not used when initializing RobertaModel: ['lm_head.layer_norm.weight', 'lm_head.bias', 'lm_head.layer_norm.bias', 'lm_head.dense.bias', 'lm_head.dense.weight', 'lm_head.decoder.weight']\n",
      "- This IS expected if you are initializing RobertaModel from the checkpoint of a model trained on another task or with another architecture (e.g. initializing a BertForSequenceClassification model from a BertForPreTraining model).\n",
      "- This IS NOT expected if you are initializing RobertaModel from the checkpoint of a model that you expect to be exactly identical (initializing a BertForSequenceClassification model from a BertForSequenceClassification model).\n",
      "[2022-03-24 19:43:00,076] [INFO] Initialized pipeline components: ['transformer', 'ner']\n"
     ]
    }
   ],
   "source": [
    "!spacy init config - --lang en --pipeline ner --optimize accuracy -G | \\\n",
    "spacy train - --paths.train NER_v7/v7_train_75_cased.spacy  --paths.dev NER_v7/v7_val_25_cased.spacy -g 0 \\\n",
    "--initialize.vectors en_core_web_lg --output models/v7"
   ]
  },
  {
   "cell_type": "code",
   "execution_count": null,
   "id": "8add76ae-a59e-4ce6-a1a2-1114be50ceba",
   "metadata": {
    "scrolled": true,
    "tags": []
   },
   "outputs": [],
   "source": []
  }
 ],
 "metadata": {
  "kernelspec": {
   "display_name": "Python 3 (ipykernel)",
   "language": "python",
   "name": "python3"
  },
  "language_info": {
   "codemirror_mode": {
    "name": "ipython",
    "version": 3
   },
   "file_extension": ".py",
   "mimetype": "text/x-python",
   "name": "python",
   "nbconvert_exporter": "python",
   "pygments_lexer": "ipython3",
   "version": "3.9.10"
  }
 },
 "nbformat": 4,
 "nbformat_minor": 5
}
