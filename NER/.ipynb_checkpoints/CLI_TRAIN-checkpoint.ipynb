{
 "cells": [
  {
   "cell_type": "code",
   "execution_count": 3,
   "id": "1a871c65-d57e-4d09-a350-5472114ce52c",
   "metadata": {},
   "outputs": [
    {
     "name": "stdout",
     "output_type": "stream",
     "text": [
      "[+] Created output directory:\n",
      "models\\handlabelled\\accuracy_cased_vectormd_gpu_train300_val100\n",
      "[i] Saving to output directory:\n",
      "models\\handlabelled\\accuracy_cased_vectormd_gpu_train300_val100\n",
      "[i] Using GPU: 0\n",
      "\u001b[1m\n",
      "=========================== Initializing pipeline ===========================\u001b[0m\n",
      "[+] Initialized pipeline\n",
      "\u001b[1m\n",
      "============================= Training pipeline =============================\u001b[0m\n",
      "[i] Pipeline: ['transformer', 'ner']\n",
      "[i] Initial learn rate: 0.0\n",
      "E    #       LOSS TRANS...  LOSS NER  ENTS_F  ENTS_P  ENTS_R  SCORE \n",
      "---  ------  -------------  --------  ------  ------  ------  ------\n",
      "  0       0        1101.12   1385.97    1.33    0.68   31.34    0.01\n",
      " 15     200       64767.14  52731.17   69.64   76.11   64.18    0.70\n",
      " 30     400         700.10    534.74   73.77   81.82   67.16    0.74\n",
      " 45     600          46.44     59.03   69.40   69.40   69.40    0.69\n",
      " 61     800          11.41     15.35   73.08   75.40   70.90    0.73\n",
      " 76    1000           5.67      6.33   75.00   78.69   71.64    0.75\n",
      " 91    1200           0.00      0.00   75.57   77.34   73.88    0.76\n",
      "106    1400           0.76      2.00   74.72   75.57   73.88    0.75\n",
      "122    1600           0.00      0.00   75.38   77.78   73.13    0.75\n",
      "137    1800           0.00      0.00   75.00   76.15   73.88    0.75\n",
      "152    2000           0.00      0.00   74.72   75.57   73.88    0.75\n",
      "167    2200           0.00      0.00   75.86   77.95   73.88    0.76\n",
      "182    2400           0.00      0.00   74.81   76.56   73.13    0.75\n",
      "198    2600        5306.81    550.65   72.95   80.91   66.42    0.73\n",
      "213    2800          88.04     69.42   77.57   79.07   76.12    0.78\n",
      "228    3000           2.63      3.03   76.81   78.29   75.37    0.77\n",
      "243    3200          18.80     18.44   75.68   78.40   73.13    0.76\n",
      "258    3400          17.02     19.50   77.66   76.26   79.10    0.78\n",
      "274    3600           0.03      0.07   75.10   77.17   73.13    0.75\n",
      "289    3800           5.23      3.94   78.16   80.31   76.12    0.78\n",
      "304    4000           2.52      2.00   75.86   77.95   73.88    0.76\n",
      "319    4200           0.00      0.00   77.57   79.07   76.12    0.78\n",
      "334    4400           2.75      4.03   78.93   81.10   76.87    0.79\n",
      "349    4600           4.51      1.52   76.52   77.69   75.37    0.77\n",
      "364    4800          33.24     32.57   74.81   76.56   73.13    0.75\n",
      "379    5000         327.12     33.83   74.44   75.00   73.88    0.74\n",
      "394    5200           6.21      5.47   75.29   79.34   71.64    0.75\n",
      "409    5400       10817.53    225.31   73.41   73.68   73.13    0.73\n",
      "424    5600          52.97     56.88   71.16   71.43   70.90    0.71\n",
      "440    5800          14.60     10.76   74.13   76.80   71.64    0.74\n",
      "455    6000           0.00      0.00   77.52   80.65   74.63    0.78\n",
      "[+] Saved pipeline to output directory\n",
      "models\\handlabelled\\accuracy_cased_vectormd_gpu_train300_val100\\model-last\n"
     ]
    },
    {
     "name": "stderr",
     "output_type": "stream",
     "text": [
      "[2022-03-18 12:20:14,075] [INFO] Set up nlp object from config\n",
      "[2022-03-18 12:20:14,082] [INFO] Pipeline: ['transformer', 'ner']\n",
      "[2022-03-18 12:20:14,086] [INFO] Created vocabulary\n",
      "[2022-03-18 12:20:15,262] [INFO] Added vectors: en_core_web_md\n",
      "[2022-03-18 12:20:15,379] [INFO] Finished initializing nlp object\n",
      "Some weights of the model checkpoint at roberta-base were not used when initializing RobertaModel: ['lm_head.dense.bias', 'lm_head.bias', 'lm_head.dense.weight', 'lm_head.layer_norm.bias', 'lm_head.layer_norm.weight', 'lm_head.decoder.weight']\n",
      "- This IS expected if you are initializing RobertaModel from the checkpoint of a model trained on another task or with another architecture (e.g. initializing a BertForSequenceClassification model from a BertForPreTraining model).\n",
      "- This IS NOT expected if you are initializing RobertaModel from the checkpoint of a model that you expect to be exactly identical (initializing a BertForSequenceClassification model from a BertForSequenceClassification model).\n",
      "[2022-03-18 12:20:32,708] [INFO] Initialized pipeline components: ['transformer', 'ner']\n"
     ]
    }
   ],
   "source": [
    "!spacy init config - --lang en --pipeline ner --optimize accuracy --gpu| \\\n",
    "spacy train - --paths.train train300_cased.spacy  --paths.dev val100_cased.spacy -g 0\\\n",
    "--initialize.vectors en_core_web_trf --output models/handlabelled/accuracy_cased_vectortrf_gpu_train300_val100"
   ]
  },
  {
   "cell_type": "code",
   "execution_count": null,
   "id": "8add76ae-a59e-4ce6-a1a2-1114be50ceba",
   "metadata": {
    "scrolled": true,
    "tags": []
   },
   "outputs": [],
   "source": []
  }
 ],
 "metadata": {
  "kernelspec": {
   "display_name": "Python 3 (ipykernel)",
   "language": "python",
   "name": "python3"
  },
  "language_info": {
   "codemirror_mode": {
    "name": "ipython",
    "version": 3
   },
   "file_extension": ".py",
   "mimetype": "text/x-python",
   "name": "python",
   "nbconvert_exporter": "python",
   "pygments_lexer": "ipython3",
   "version": "3.9.10"
  }
 },
 "nbformat": 4,
 "nbformat_minor": 5
}
